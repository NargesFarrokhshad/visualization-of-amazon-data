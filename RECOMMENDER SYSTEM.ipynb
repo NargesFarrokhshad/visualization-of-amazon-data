{
 "cells": [
  {
   "cell_type": "code",
   "execution_count": 2,
   "metadata": {
    "collapsed": true
   },
   "outputs": [],
   "source": [
    "import glob\n",
    "import json\n",
    "import pandas as pd\n",
    "import numpy as np\n",
    "import warnings\n",
    "warnings.filterwarnings(\"ignore\")"
   ]
  },
  {
   "cell_type": "code",
   "execution_count": 5,
   "metadata": {},
   "outputs": [],
   "source": [
    "files=glob.glob('../Data/Tested_Data/*')\n",
    "\n",
    "# Reading a multiple json files from a single json file 'ProductSample.json'.\n",
    "product=[]\n",
    "with open(files[0]) as data_file:\n",
    "    data=data_file.read()\n",
    "    for i in data.split('\\n'):\n",
    "        product.append(i)\n",
    "        \n",
    "# Firstly cleaning the data by converting files into proper json format files by some replacements and \n",
    "# then Making a list of Tuples containg data of brand Rubie's Costume Co.\n",
    "productDataframe=[]\n",
    "brand_List=['Rubie&#39;s Costume Co']\n",
    "for x in product:\n",
    "    try:\n",
    "        y=x.replace(\"'\",'\"')\n",
    "        jdata=json.loads(y)\n",
    "        if jdata['brand'] in brand_List:\n",
    "            productDataframe.append((jdata['asin'],jdata['title'])) \n",
    "    except:\n",
    "        pass\n",
    "    \n",
    "# Creating a dataframe using the list of Tuples got in the previous step.  \n",
    "Product_dataset=pd.DataFrame(productDataframe,columns=['Asin','Title'])"
   ]
  },
  {
   "cell_type": "code",
   "execution_count": 8,
   "metadata": {
    "collapsed": true
   },
   "outputs": [],
   "source": [
    "prod_List=Product_dataset.Asin.unique().tolist()"
   ]
  },
  {
   "cell_type": "code",
   "execution_count": 9,
   "metadata": {},
   "outputs": [],
   "source": [
    "# Reading a multiple json files from a single json file 'ReviewSample.json'.\n",
    "review=[]\n",
    "with open(files[1]) as data_file:\n",
    "    data=data_file.read()\n",
    "    for i in data.split('\\n'):\n",
    "        review.append(i)\n",
    "        \n",
    "# Making a list of Tuples containg all the data of json files.\n",
    "reviewDataframe=[]\n",
    "for x in review:\n",
    "    try:\n",
    "        jdata=json.loads(x)\n",
    "        reviewDataframe.append((jdata['reviewerID'],jdata['asin'],jdata['overall'])) \n",
    "    except:\n",
    "        pass\n",
    "    \n",
    "# Creating a dataframe using the list of Tuples got in the previous step.     \n",
    "review_dataset=pd.DataFrame(reviewDataframe,columns=['Reviewer_ID','Asin','Rating'])    "
   ]
  },
  {
   "cell_type": "code",
   "execution_count": 10,
   "metadata": {},
   "outputs": [],
   "source": [
    "Working_dataset=review_dataset[review_dataset.Asin.isin(prod_List)]\n",
    "\n",
    "Working_dataset=pd.merge(Working_dataset,Product_dataset,on='Asin',how='inner')\n",
    "\n",
    "Working_dataset=Working_dataset[['Reviewer_ID','Asin','Title','Rating']]\n",
    "Model = Working_dataset.pivot_table(index='Reviewer_ID',columns='Title',values='Rating')"
   ]
  },
  {
   "cell_type": "code",
   "execution_count": 14,
   "metadata": {
    "collapsed": true
   },
   "outputs": [],
   "source": [
    "def pearson(x1,x2):\n",
    "    x1_cor=x1-x1.mean()\n",
    "    x2_cor=x2-x2.mean()\n",
    "    return np.sum(x1_cor * x2_cor)/np.sqrt(np.sum(x1_cor**2) * np.sum(x2_cor**2))\n",
    "\n",
    "def get_recommendations(product_id,M,num):\n",
    "    recomend=[]\n",
    "    for asin in M.columns:\n",
    "        if asin==product_id:\n",
    "            continue\n",
    "        cor=pearson(M[product_id],M[asin])\n",
    "        if np.isnan(cor):\n",
    "            continue\n",
    "        else:\n",
    "            recomend.append((asin,cor))\n",
    "    recomend.sort(key=lambda tup: tup[1],reverse=True)\n",
    "    return recomend[:num]\n",
    "\n",
    "def escape(t):\n",
    "    \"\"\"HTML-escape the text in `t`.\"\"\"\n",
    "    return (t\n",
    "        .replace(\"&amp;\",\"&\").replace(\"&lt;\",\"<\").replace(\"&gt;\",\">\")\n",
    "        .replace(\"&#39;\",\"'\").replace(\"&quot;\",'\"')\n",
    "        )"
   ]
  },
  {
   "cell_type": "code",
   "execution_count": 19,
   "metadata": {
    "scrolled": true
   },
   "outputs": [],
   "source": [
    "rec=get_recommendations('300 Movie Spartan Shield',Model,5)"
   ]
  },
  {
   "cell_type": "code",
   "execution_count": 20,
   "metadata": {},
   "outputs": [],
   "source": [
    "Recommendation=[]\n",
    "for x in rec:\n",
    "    if x[1] > 0:\n",
    "        Recommendation.append((escape(x[0]),x[1]))\n",
    "\n",
    "result=pd.DataFrame(Recommendation,columns=['Product Title','Correlation '])    "
   ]
  },
  {
   "cell_type": "code",
   "execution_count": 22,
   "metadata": {},
   "outputs": [],
   "source": [
    "result.to_csv('../Analysis/Analysis_5/Recommendation.csv')"
   ]
  },
  {
   "cell_type": "code",
   "execution_count": 23,
   "metadata": {},
   "outputs": [
    {
     "data": {
      "text/html": [
       "<div>\n",
       "<table border=\"1\" class=\"dataframe\">\n",
       "  <thead>\n",
       "    <tr style=\"text-align: right;\">\n",
       "      <th></th>\n",
       "      <th>Product Title</th>\n",
       "      <th>Correlation</th>\n",
       "    </tr>\n",
       "  </thead>\n",
       "  <tbody>\n",
       "    <tr>\n",
       "      <th>0</th>\n",
       "      <td>300 Movie Spartan Deluxe Vinyl Helmet</td>\n",
       "      <td>0.223277</td>\n",
       "    </tr>\n",
       "    <tr>\n",
       "      <th>1</th>\n",
       "      <td>Toynk Toys - 300- Spartan Sword</td>\n",
       "      <td>0.069275</td>\n",
       "    </tr>\n",
       "  </tbody>\n",
       "</table>\n",
       "</div>"
      ],
      "text/plain": [
       "                           Product Title  Correlation \n",
       "0  300 Movie Spartan Deluxe Vinyl Helmet      0.223277\n",
       "1        Toynk Toys - 300- Spartan Sword      0.069275"
      ]
     },
     "execution_count": 23,
     "metadata": {},
     "output_type": "execute_result"
    }
   ],
   "source": [
    "result"
   ]
  }
 ],
 "metadata": {
  "anaconda-cloud": {},
  "kernelspec": {
   "display_name": "Python 3",
   "language": "python",
   "name": "python3"
  },
  "language_info": {
   "codemirror_mode": {
    "name": "ipython",
    "version": 3
   },
   "file_extension": ".py",
   "mimetype": "text/x-python",
   "name": "python",
   "nbconvert_exporter": "python",
   "pygments_lexer": "ipython3",
   "version": "3.7.1"
  }
 },
 "nbformat": 4,
 "nbformat_minor": 1
}
